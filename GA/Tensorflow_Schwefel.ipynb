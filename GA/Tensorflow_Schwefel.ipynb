{
 "cells": [
  {
   "cell_type": "markdown",
   "metadata": {
    "deletable": true,
    "editable": true
   },
   "source": [
    "# Nonlinear Optimization with Tensorflow "
   ]
  },
  {
   "cell_type": "markdown",
   "metadata": {
    "deletable": true,
    "editable": true
   },
   "source": [
    "## Why bother?"
   ]
  },
  {
   "cell_type": "markdown",
   "metadata": {
    "collapsed": true,
    "deletable": true,
    "editable": true
   },
   "source": [
    "# Improved Genetic Algorithm"
   ]
  },
  {
   "cell_type": "code",
   "execution_count": 1,
   "metadata": {
    "collapsed": false,
    "deletable": true,
    "editable": true
   },
   "outputs": [],
   "source": [
    "import os\n",
    "import numpy as np\n",
    "import matplotlib.pyplot as plt\n",
    "import tensorflow as tf\n",
    "from tensorflow.python.framework import ops\n",
    "ops.reset_default_graph()"
   ]
  },
  {
   "cell_type": "code",
   "execution_count": 2,
   "metadata": {
    "collapsed": true,
    "deletable": true,
    "editable": true
   },
   "outputs": [],
   "source": [
    "sess = tf.InteractiveSession()"
   ]
  },
  {
   "cell_type": "code",
   "execution_count": 3,
   "metadata": {
    "collapsed": true,
    "deletable": true,
    "editable": true
   },
   "outputs": [],
   "source": [
    "# Genetic Algorithm Parameters\n",
    "pop_size = 1000\n",
    "features = 4\n",
    "selection = 0.7\n",
    "mutation = 0.02 #1. / pop_size\n",
    "generations = 5000\n",
    "num_parents = int(pop_size * selection)\n",
    "num_children = pop_size - num_parents"
   ]
  },
  {
   "cell_type": "code",
   "execution_count": 4,
   "metadata": {
    "collapsed": false,
    "deletable": true,
    "editable": true
   },
   "outputs": [],
   "source": [
    "with tf.name_scope('population'):\n",
    "    population = tf.Variable(tf.random_uniform([pop_size, features], minval=-500., maxval=500), name='population')\n",
    "    "
   ]
  },
  {
   "cell_type": "code",
   "execution_count": 5,
   "metadata": {
    "collapsed": false,
    "deletable": true,
    "editable": true
   },
   "outputs": [],
   "source": [
    "# Initialize placeholders\n",
    "with tf.name_scope('mutations_ph'):\n",
    "    truth_ph = tf.placeholder(tf.float32, [None, features])\n",
    "    crossover_mat_ph = tf.placeholder(tf.float32, [num_children, features])\n",
    "    mutation_val_ph = tf.placeholder(tf.float32, [num_children, features])"
   ]
  },
  {
   "cell_type": "code",
   "execution_count": 6,
   "metadata": {
    "collapsed": false,
    "deletable": true,
    "editable": true
   },
   "outputs": [],
   "source": [
    "# Calculate Fitness\n",
    "with tf.name_scope('fitness'):\n",
    "    \n",
    "    with tf.name_scope('schwefel'):\n",
    "        fitness = 418.9829 * features - tf.reduce_sum(\n",
    "            tf.multiply(population, tf.sin(tf.sqrt(tf.abs(population)))), reduction_indices=[1])\n",
    "\n",
    "        tf.summary.histogram('histogram', fitness)\n",
    "\n",
    "       \n",
    "    with tf.name_scope('top_individuals'):\n",
    "        top_vals, top_ind = tf.nn.top_k(fitness, k=pop_size)\n",
    "    "
   ]
  },
  {
   "cell_type": "code",
   "execution_count": 7,
   "metadata": {
    "collapsed": true,
    "deletable": true,
    "editable": true
   },
   "outputs": [],
   "source": [
    "with tf.name_scope('best_individual'):\n",
    "    # Get best individual\n",
    "    best_val = tf.reduce_min(top_vals)\n",
    "    best_ind = tf.arg_min(top_vals, 0)\n",
    "    best_individual = tf.gather(population, best_ind)"
   ]
  },
  {
   "cell_type": "code",
   "execution_count": 8,
   "metadata": {
    "collapsed": false,
    "deletable": true,
    "editable": true
   },
   "outputs": [],
   "source": [
    "with tf.name_scope('parents'):\n",
    "    # Get parents\n",
    "    population_sorted = tf.gather(population, tf.reverse(top_ind, [0]))\n",
    "    parents = tf.slice(population_sorted, [0, 0], [num_parents, features]) "
   ]
  },
  {
   "cell_type": "code",
   "execution_count": 9,
   "metadata": {
    "collapsed": false,
    "deletable": true,
    "editable": true
   },
   "outputs": [],
   "source": [
    "with tf.name_scope('offspring'):\n",
    "    # Get offspring\n",
    "    # Indices to shuffle-gather parents\n",
    "    rand_parent1_ix = np.random.choice(num_parents, num_children)\n",
    "    rand_parent2_ix = np.random.choice(num_parents, num_children)\n",
    "\n",
    "    # Gather parents by shuffled indices, expand back to pop_size\n",
    "    with tf.name_scope('random_parent_selection'):\n",
    "        rand_parent1 = tf.gather(parents, rand_parent1_ix)\n",
    "        rand_parent2 = tf.gather(parents, rand_parent2_ix)\n",
    "    with tf.name_scope('mutations'):\n",
    "        rand_parent1_sel = tf.multiply(rand_parent1, crossover_mat_ph)\n",
    "        rand_parent2_sel = tf.multiply(rand_parent2, tf.subtract(1., crossover_mat_ph))\n",
    "        children_after_sel = tf.add(rand_parent1_sel, rand_parent2_sel)\n",
    "    \n",
    "    # Mutate offspring\n",
    "    mutated_children = tf.add(children_after_sel, mutation_val_ph)"
   ]
  },
  {
   "cell_type": "code",
   "execution_count": 10,
   "metadata": {
    "collapsed": true,
    "deletable": true,
    "editable": true
   },
   "outputs": [],
   "source": [
    "with tf.name_scope('next_generation'):\n",
    "    # Combine children and parents into new population\n",
    "    new_population = tf.concat(axis=0, values=[parents, mutated_children])\n",
    "    step = tf.group(population.assign(new_population))"
   ]
  },
  {
   "cell_type": "code",
   "execution_count": 11,
   "metadata": {
    "collapsed": false,
    "deletable": true,
    "editable": true
   },
   "outputs": [
    {
     "name": "stdout",
     "output_type": "stream",
     "text": [
      "Generation 0, Best Fitness 465.716431\n",
      "Generation 1000, Best Fitness 4.360107\n",
      "Generation 2000, Best Fitness 1.311157\n",
      "Generation 3000, Best Fitness 0.052734\n",
      "Generation 4000, Best Fitness 0.000000\n",
      "Generation 5000, Best Fitness 0.000000\n"
     ]
    }
   ],
   "source": [
    "# Run through generations\n",
    "#with tf.Session() as sess:\n",
    "tf.set_random_seed(42)\n",
    "np.random.seed(42)\n",
    "\n",
    "\n",
    "# Write to Tensorboard\n",
    "merged = tf.summary.merge_all()\n",
    "writer = tf.summary.FileWriter('/tmp/schwefel', sess.graph)\n",
    "\n",
    "sess.run(tf.global_variables_initializer())\n",
    "\n",
    "if not os.path.exists('/tmp/schwefel'):\n",
    "    os.makedirs('/tmp/schwefel')\n",
    "\n",
    "\n",
    "top_solutions = np.empty([generations, features])\n",
    "for i in range(0, generations + 1):\n",
    "    # Create cross-over matrices \n",
    "    crossover_mat = np.ones(shape=[num_children, features])\n",
    "    crossover_point = np.random.choice(np.arange(1, features-1, step=1), num_children)\n",
    "    for pop_ix in range(num_children):\n",
    "        crossover_mat[pop_ix, 0:crossover_point[pop_ix]] = 0.\n",
    "\n",
    "    # Generate mutation probability matrices\n",
    "    mutation_prob_mat = np.random.uniform(size=[num_children, features])\n",
    "    mutation_values = np.random.normal(0, 0.03, size=[num_children, features])\n",
    "    mutation_values[mutation_prob_mat >= mutation] = 0\n",
    "\n",
    "    # Run GA step\n",
    "    feed_dict = {crossover_mat_ph: crossover_mat,\n",
    "                 mutation_val_ph: mutation_values}\n",
    "\n",
    "    summary, _ = sess.run([merged, step], feed_dict=feed_dict)\n",
    "    #summary = step.run(feed_dict, session=sess)\n",
    "    \n",
    "    if i % 10 == 0:\n",
    "        writer.add_summary(summary, i)\n",
    "        \n",
    "    # Store epoch's best solution\n",
    "    top_solution = sess.run(best_individual, feed_dict=feed_dict)\n",
    "\n",
    "    #\n",
    "    top_solutions = np.append(top_solutions, [top_solution], axis=0)\n",
    "\n",
    "\n",
    "    #print(population.eval(session=sess))\n",
    "    if i % 1000 == 0:\n",
    "        best_fit = sess.run(best_val, feed_dict=feed_dict)\n",
    "        print('Generation {}, Best Fitness {:.6f}'.format(i, best_fit))\n",
    "\n",
    "# cleanup\n",
    "writer.close()\n",
    "\n"
   ]
  },
  {
   "cell_type": "code",
   "execution_count": 12,
   "metadata": {
    "collapsed": false,
    "deletable": true,
    "editable": true
   },
   "outputs": [
    {
     "data": {
      "text/html": [
       "<div>\n",
       "<table border=\"1\" class=\"dataframe\">\n",
       "  <thead>\n",
       "    <tr style=\"text-align: right;\">\n",
       "      <th></th>\n",
       "      <th>0</th>\n",
       "      <th>1</th>\n",
       "      <th>2</th>\n",
       "      <th>3</th>\n",
       "      <th>yhat</th>\n",
       "    </tr>\n",
       "  </thead>\n",
       "  <tbody>\n",
       "    <tr>\n",
       "      <th>9933</th>\n",
       "      <td>420.9520</td>\n",
       "      <td>420.9727</td>\n",
       "      <td>420.9759</td>\n",
       "      <td>420.9534</td>\n",
       "      <td>0.000124</td>\n",
       "    </tr>\n",
       "    <tr>\n",
       "      <th>9934</th>\n",
       "      <td>420.9682</td>\n",
       "      <td>420.9846</td>\n",
       "      <td>420.9816</td>\n",
       "      <td>420.9615</td>\n",
       "      <td>0.000110</td>\n",
       "    </tr>\n",
       "    <tr>\n",
       "      <th>9941</th>\n",
       "      <td>420.9677</td>\n",
       "      <td>420.9853</td>\n",
       "      <td>420.9816</td>\n",
       "      <td>420.9868</td>\n",
       "      <td>0.000148</td>\n",
       "    </tr>\n",
       "    <tr>\n",
       "      <th>9943</th>\n",
       "      <td>420.9720</td>\n",
       "      <td>420.9782</td>\n",
       "      <td>420.9816</td>\n",
       "      <td>420.9718</td>\n",
       "      <td>0.000086</td>\n",
       "    </tr>\n",
       "    <tr>\n",
       "      <th>9948</th>\n",
       "      <td>420.9675</td>\n",
       "      <td>420.9782</td>\n",
       "      <td>420.9816</td>\n",
       "      <td>420.9804</td>\n",
       "      <td>0.000100</td>\n",
       "    </tr>\n",
       "    <tr>\n",
       "      <th>9963</th>\n",
       "      <td>420.9684</td>\n",
       "      <td>420.9638</td>\n",
       "      <td>420.9816</td>\n",
       "      <td>420.9804</td>\n",
       "      <td>0.000092</td>\n",
       "    </tr>\n",
       "    <tr>\n",
       "      <th>9969</th>\n",
       "      <td>420.9720</td>\n",
       "      <td>420.9615</td>\n",
       "      <td>420.9670</td>\n",
       "      <td>420.9534</td>\n",
       "      <td>0.000089</td>\n",
       "    </tr>\n",
       "    <tr>\n",
       "      <th>9979</th>\n",
       "      <td>420.9541</td>\n",
       "      <td>420.9744</td>\n",
       "      <td>420.9772</td>\n",
       "      <td>420.9682</td>\n",
       "      <td>0.000091</td>\n",
       "    </tr>\n",
       "    <tr>\n",
       "      <th>9989</th>\n",
       "      <td>420.9684</td>\n",
       "      <td>420.9853</td>\n",
       "      <td>420.9816</td>\n",
       "      <td>420.9682</td>\n",
       "      <td>0.000106</td>\n",
       "    </tr>\n",
       "    <tr>\n",
       "      <th>9992</th>\n",
       "      <td>420.9680</td>\n",
       "      <td>420.9727</td>\n",
       "      <td>420.9816</td>\n",
       "      <td>420.9497</td>\n",
       "      <td>0.000120</td>\n",
       "    </tr>\n",
       "  </tbody>\n",
       "</table>\n",
       "</div>"
      ],
      "text/plain": [
       "             0         1         2         3      yhat\n",
       "9933  420.9520  420.9727  420.9759  420.9534  0.000124\n",
       "9934  420.9682  420.9846  420.9816  420.9615  0.000110\n",
       "9941  420.9677  420.9853  420.9816  420.9868  0.000148\n",
       "9943  420.9720  420.9782  420.9816  420.9718  0.000086\n",
       "9948  420.9675  420.9782  420.9816  420.9804  0.000100\n",
       "9963  420.9684  420.9638  420.9816  420.9804  0.000092\n",
       "9969  420.9720  420.9615  420.9670  420.9534  0.000089\n",
       "9979  420.9541  420.9744  420.9772  420.9682  0.000091\n",
       "9989  420.9684  420.9853  420.9816  420.9682  0.000106\n",
       "9992  420.9680  420.9727  420.9816  420.9497  0.000120"
      ]
     },
     "execution_count": 12,
     "metadata": {},
     "output_type": "execute_result"
    }
   ],
   "source": [
    "import pandas as pd\n",
    "\n",
    "def schwefel(x: np.ndarray)-> np.float32 :\n",
    "    return 418.9829 * len(x) - x.dot(np.sin(np.sqrt(np.abs(x))))\n",
    "\n",
    "df = pd.DataFrame(np.round(top_solutions, decimals=4)).drop_duplicates()\n",
    "df['yhat'] = df.apply(schwefel, axis=1)\n",
    "df.sort_values(by='yhat')\n",
    "df[-10:]"
   ]
  },
  {
   "cell_type": "code",
   "execution_count": null,
   "metadata": {
    "collapsed": true,
    "deletable": true,
    "editable": true
   },
   "outputs": [],
   "source": []
  }
 ],
 "metadata": {
  "kernelspec": {
   "display_name": "Python 3",
   "language": "python",
   "name": "python3"
  },
  "language_info": {
   "codemirror_mode": {
    "name": "ipython",
    "version": 3
   },
   "file_extension": ".py",
   "mimetype": "text/x-python",
   "name": "python",
   "nbconvert_exporter": "python",
   "pygments_lexer": "ipython3",
   "version": "3.6.0"
  }
 },
 "nbformat": 4,
 "nbformat_minor": 2
}
