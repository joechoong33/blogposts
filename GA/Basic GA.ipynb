{
 "cells": [
  {
   "cell_type": "code",
   "execution_count": 1,
   "metadata": {
    "collapsed": true,
    "deletable": true,
    "editable": true
   },
   "outputs": [],
   "source": [
    "import numpy as np\n",
    "from scipy import sparse\n",
    "import matplotlib.pyplot as plt\n",
    "import seaborn as sns\n",
    "\n",
    "%matplotlib inline"
   ]
  },
  {
   "cell_type": "code",
   "execution_count": 2,
   "metadata": {
    "collapsed": false,
    "deletable": true,
    "editable": true
   },
   "outputs": [],
   "source": [
    "def schwefel(x: np.ndarray)-> np.float32 :\n",
    "    return 418.9829 * len(x) - x.dot(np.sin(np.sqrt(np.abs(x))))"
   ]
  },
  {
   "cell_type": "code",
   "execution_count": null,
   "metadata": {
    "collapsed": true
   },
   "outputs": [],
   "source": []
  },
  {
   "cell_type": "code",
   "execution_count": 31,
   "metadata": {
    "collapsed": false,
    "deletable": true,
    "editable": true
   },
   "outputs": [
    {
     "name": "stdout",
     "output_type": "stream",
     "text": [
      "The slowest run took 10.49 times longer than the fastest. This could mean that an intermediate result is being cached.\n",
      "100000 loops, best of 3: 4.52 µs per loop\n"
     ]
    }
   ],
   "source": [
    "x = np.array([420, 420, 420, 420], dtype=np.float32)\n",
    "\n",
    "%timeit schwefel(x)"
   ]
  },
  {
   "cell_type": "code",
   "execution_count": 30,
   "metadata": {
    "collapsed": false
   },
   "outputs": [
    {
     "name": "stdout",
     "output_type": "stream",
     "text": [
      "The slowest run took 4.55 times longer than the fastest. This could mean that an intermediate result is being cached.\n",
      "100000 loops, best of 3: 14.7 µs per loop\n"
     ]
    }
   ],
   "source": [
    "%timeit 418.9829 * len(x) - sum( x*np.sin(np.sqrt(np.abs(x))) for x in x)"
   ]
  },
  {
   "cell_type": "code",
   "execution_count": 33,
   "metadata": {
    "collapsed": false
   },
   "outputs": [],
   "source": [
    "from math import sin, sqrt\n",
    "def slow_schwefel(x):\n",
    "    c = 418.9829\n",
    "    d = len(x)\n",
    "    sum = 0\n",
    "    for v in x:\n",
    "        sum += v * sin(sqrt(abs(v)))\n",
    "    \n",
    "    return c*d - sum"
   ]
  },
  {
   "cell_type": "code",
   "execution_count": 35,
   "metadata": {
    "collapsed": false
   },
   "outputs": [
    {
     "name": "stdout",
     "output_type": "stream",
     "text": [
      "The slowest run took 4.45 times longer than the fastest. This could mean that an intermediate result is being cached.\n",
      "100000 loops, best of 3: 8.69 µs per loop\n"
     ]
    }
   ],
   "source": [
    "%timeit slow_schwefel(x)"
   ]
  },
  {
   "cell_type": "code",
   "execution_count": 3,
   "metadata": {
    "collapsed": false,
    "deletable": true,
    "editable": true
   },
   "outputs": [
    {
     "data": {
      "text/plain": [
       "2.5455132458773733e-05"
      ]
     },
     "execution_count": 3,
     "metadata": {},
     "output_type": "execute_result"
    }
   ],
   "source": [
    "const = 420.968746\n",
    "inputs = np.array([const, const])\n",
    "schwefel(inputs)"
   ]
  },
  {
   "cell_type": "code",
   "execution_count": 3,
   "metadata": {
    "collapsed": true,
    "deletable": true,
    "editable": true
   },
   "outputs": [],
   "source": [
    "def generate_population(length=4, lower=-500, upper=500, pop_size=100):\n",
    "    \"\"\"Create the initial population\"\"\"\n",
    "    return np.random.uniform(low=lower, high=upper, size=pop_size * length\n",
    "                     ).reshape([pop_size, length])"
   ]
  },
  {
   "cell_type": "code",
   "execution_count": 4,
   "metadata": {
    "collapsed": true,
    "deletable": true,
    "editable": true
   },
   "outputs": [],
   "source": [
    "def apply_fitness(objective, population):\n",
    "    \"\"\"Apply to the objective function to each individaul in population\"\"\"\n",
    "\n",
    "    return np.apply_along_axis(objective, 1, population)    "
   ]
  },
  {
   "cell_type": "code",
   "execution_count": 6,
   "metadata": {
    "collapsed": false,
    "deletable": true,
    "editable": true
   },
   "outputs": [
    {
     "name": "stdout",
     "output_type": "stream",
     "text": [
      "1 loop, best of 3: 7.18 s per loop\n"
     ]
    }
   ],
   "source": [
    "%%timeit\n",
    "pop = generate_population(pop_size=1000)\n",
    "for _ in range(1000):\n",
    "    fitness = apply_fitness(schwefel, pop)"
   ]
  },
  {
   "cell_type": "code",
   "execution_count": 5,
   "metadata": {
    "collapsed": false,
    "deletable": true,
    "editable": true
   },
   "outputs": [],
   "source": [
    "def reproduce(pop, fitness_vals, pop_size=100, survive_prob=0.7, mutation_rate=0.01):\n",
    "    \n",
    "    # Shapes\n",
    "    num_individuals = pop.shape[0]\n",
    "    num_reproduce = np.int32(num_individuals * survive_prob)\n",
    "\n",
    "    \n",
    "    # Best/worst fitness vals \n",
    "    sorted_fitness = np.abs(fitness_vals).argsort()\n",
    "    best = pop[sorted_fitness[:num_reproduce]]\n",
    "    #worst = pop[sorted_fitness[-num_reproduce:]]\n",
    "    \n",
    "    #print(best)\n",
    "\n",
    "    # Breeders\n",
    "    #breeders = np.vstack((best, worst))\n",
    "    breeders = best\n",
    "    \n",
    "    # Split into parents\n",
    "    split_col = pop.shape[1] // 2\n",
    "    parents_a, parents_b = np.hsplit(breeders, split_col)\n",
    "    \n",
    "    # Randomize\n",
    "    np.random.shuffle(parents_b)\n",
    "    \n",
    "    # Mate \n",
    "    mated = np.hstack((parents_a, parents_b))\n",
    "\n",
    "    \n",
    "    #Mutate the kids\n",
    "    def rand_val(n):\n",
    "        '''Returns n random values between [.01, 0.03]'''\n",
    "        return np.random.randint(1, 3, n) / 100.0\n",
    "        \n",
    "    mated_row, mated_col = mated.shape\n",
    "    mutation = 1.0 - sparse.random(mated_row, mated_col, mutation_rate, data_rvs=rand_val).todense()\n",
    "    offspring = np.multiply(mutation, mated).A  # matrix -> ndarray\n",
    "    \n",
    "\n",
    "    # Fill remaining population with random individuals\n",
    "    to_fill = pop_size - mated_row\n",
    "    \n",
    "    new_individuals = generate_population(length=mated_col, pop_size=to_fill)\n",
    "    \n",
    "    \n",
    "\n",
    "    return np.around(np.vstack((offspring, new_individuals)), decimals=1)\n",
    "    \n",
    "    \n",
    "    "
   ]
  },
  {
   "cell_type": "code",
   "execution_count": 40,
   "metadata": {
    "collapsed": false,
    "deletable": true,
    "editable": true
   },
   "outputs": [
    {
     "name": "stdout",
     "output_type": "stream",
     "text": [
      "Epoch 0\t Best Fitness 451.6764\n",
      "Epoch 500\t Best Fitness 2.7466\n",
      "Epoch 1000\t Best Fitness 1.6412\n",
      "Epoch 1500\t Best Fitness 1.1870\n",
      "Epoch 2000\t Best Fitness 1.1870\n",
      "Epoch 2500\t Best Fitness 1.1870\n",
      "Epoch 3000\t Best Fitness 1.1447\n",
      "Epoch 3500\t Best Fitness 1.1447\n",
      "Epoch 4000\t Best Fitness 1.1447\n",
      "Epoch 4500\t Best Fitness 1.1447\n",
      "Epoch 5000\t Best Fitness 1.1447\n",
      "Epoch 5500\t Best Fitness 0.2771\n",
      "Epoch 6000\t Best Fitness 0.2771\n",
      "Epoch 6500\t Best Fitness 0.2771\n",
      "Epoch 7000\t Best Fitness 0.2771\n",
      "Epoch 7500\t Best Fitness 0.2771\n",
      "Epoch 8000\t Best Fitness 0.2771\n",
      "Epoch 8500\t Best Fitness 0.2771\n",
      "Epoch 9000\t Best Fitness 0.2771\n",
      "Epoch 9500\t Best Fitness 0.2771\n",
      "Epoch 10000\t Best Fitness 0.2771\n"
     ]
    }
   ],
   "source": [
    "np.random.seed(42)\n",
    "def evolve():\n",
    "    EPSILON = 10\n",
    "    MAX_EPOCHS = 10001\n",
    "    POP=1000\n",
    "    MUTATE=0.02\n",
    "    SURVIVE=0.7\n",
    "    \n",
    "    bag = np.zeros([MAX_EPOCHS, 4])\n",
    "    current_epoch = 0\n",
    "    best_score = np.inf\n",
    "    initial_population = generate_population(length=4, pop_size=POP)\n",
    "    while current_epoch < MAX_EPOCHS:\n",
    "        \n",
    "        if current_epoch == 0:\n",
    "            current_population = initial_population\n",
    "        \n",
    "        fit_scores = apply_fitness(schwefel, current_population)\n",
    "        \n",
    "        best_individual = current_population[np.abs(fit_scores).argsort()[0]]\n",
    "        best_fitness = schwefel(best_individual)\n",
    "        \n",
    "        if np.abs(best_fitness) < best_score:\n",
    "            best_score = best_fitness\n",
    "        \n",
    "        bag[current_epoch] = best_individual\n",
    "        current_population = reproduce(current_population, fit_scores, \n",
    "                                        pop_size=POP,\n",
    "                                        mutation_rate=MUTATE,\n",
    "                                        survive_prob=SURVIVE)\n",
    "        \n",
    "        \n",
    "        \n",
    "        \n",
    "        if current_epoch % 500 == 0:\n",
    "            print('Epoch %d\\t Best Fitness %6.4f' % (current_epoch, best_score))\n",
    "            #print('\\tBest Individual: %s\\n' % str(best_individual))\n",
    "        \n",
    "        \n",
    "        current_epoch += 1\n",
    "    \n",
    "    return bag\n",
    "\n",
    "results = evolve()"
   ]
  },
  {
   "cell_type": "code",
   "execution_count": 39,
   "metadata": {
    "collapsed": false,
    "deletable": true,
    "editable": true
   },
   "outputs": [
    {
     "data": {
      "text/plain": [
       "array([[ 419. ,  419.7,  419. ,  421.2],\n",
       "       [ 418.6,  422.6,  419. ,  421.9],\n",
       "       [ 417.9,  419.1,  421.9,  421.8],\n",
       "       [ 419.6,  424.5,  421.4,  422. ],\n",
       "       [ 421.8,  417. ,  418.7,  420.5],\n",
       "       [ 418.7,  423.2,  420.2,  417.6],\n",
       "       [ 420.9,  425.3,  419.4,  422.1],\n",
       "       [ 422.9,  418.2,  418.5,  418.6],\n",
       "       [ 417.7,  423.3,  418.8,  422.5],\n",
       "       [ 421.7,  422.4,  416.4,  419.9]])"
      ]
     },
     "execution_count": 39,
     "metadata": {},
     "output_type": "execute_result"
    }
   ],
   "source": [
    "top_ten = np.apply_along_axis(schwefel, 1, results).argsort()[:10]\n",
    "\n",
    "results[top_ten]"
   ]
  },
  {
   "cell_type": "code",
   "execution_count": 21,
   "metadata": {
    "collapsed": true,
    "deletable": true,
    "editable": true
   },
   "outputs": [],
   "source": [
    "import pandas as pd"
   ]
  },
  {
   "cell_type": "code",
   "execution_count": 22,
   "metadata": {
    "collapsed": false,
    "deletable": true,
    "editable": true
   },
   "outputs": [],
   "source": [
    "df = pd.DataFrame(results[top_ten])\n",
    "df['output'] = df.apply(schwefel,axis=1)"
   ]
  },
  {
   "cell_type": "code",
   "execution_count": 23,
   "metadata": {
    "collapsed": false,
    "deletable": true,
    "editable": true
   },
   "outputs": [
    {
     "data": {
      "text/html": [
       "<div>\n",
       "<table border=\"1\" class=\"dataframe\">\n",
       "  <thead>\n",
       "    <tr style=\"text-align: right;\">\n",
       "      <th></th>\n",
       "      <th>0</th>\n",
       "      <th>1</th>\n",
       "      <th>2</th>\n",
       "      <th>3</th>\n",
       "      <th>output</th>\n",
       "    </tr>\n",
       "  </thead>\n",
       "  <tbody>\n",
       "    <tr>\n",
       "      <th>0</th>\n",
       "      <td>422.3</td>\n",
       "      <td>420.4</td>\n",
       "      <td>419.7</td>\n",
       "      <td>418.8</td>\n",
       "      <td>1.060448</td>\n",
       "    </tr>\n",
       "    <tr>\n",
       "      <th>1</th>\n",
       "      <td>421.3</td>\n",
       "      <td>417.2</td>\n",
       "      <td>424.1</td>\n",
       "      <td>420.1</td>\n",
       "      <td>3.135536</td>\n",
       "    </tr>\n",
       "    <tr>\n",
       "      <th>2</th>\n",
       "      <td>426.0</td>\n",
       "      <td>419.5</td>\n",
       "      <td>418.7</td>\n",
       "      <td>421.2</td>\n",
       "      <td>4.123857</td>\n",
       "    </tr>\n",
       "    <tr>\n",
       "      <th>3</th>\n",
       "      <td>424.8</td>\n",
       "      <td>421.5</td>\n",
       "      <td>420.9</td>\n",
       "      <td>415.7</td>\n",
       "      <td>5.380632</td>\n",
       "    </tr>\n",
       "    <tr>\n",
       "      <th>4</th>\n",
       "      <td>416.8</td>\n",
       "      <td>424.4</td>\n",
       "      <td>421.7</td>\n",
       "      <td>416.2</td>\n",
       "      <td>6.602662</td>\n",
       "    </tr>\n",
       "    <tr>\n",
       "      <th>5</th>\n",
       "      <td>416.8</td>\n",
       "      <td>415.9</td>\n",
       "      <td>418.6</td>\n",
       "      <td>418.7</td>\n",
       "      <td>6.774821</td>\n",
       "    </tr>\n",
       "    <tr>\n",
       "      <th>6</th>\n",
       "      <td>416.8</td>\n",
       "      <td>415.9</td>\n",
       "      <td>418.6</td>\n",
       "      <td>418.7</td>\n",
       "      <td>6.774821</td>\n",
       "    </tr>\n",
       "    <tr>\n",
       "      <th>7</th>\n",
       "      <td>418.3</td>\n",
       "      <td>417.0</td>\n",
       "      <td>425.9</td>\n",
       "      <td>423.7</td>\n",
       "      <td>6.892861</td>\n",
       "    </tr>\n",
       "    <tr>\n",
       "      <th>8</th>\n",
       "      <td>424.0</td>\n",
       "      <td>417.9</td>\n",
       "      <td>415.9</td>\n",
       "      <td>424.3</td>\n",
       "      <td>6.979350</td>\n",
       "    </tr>\n",
       "    <tr>\n",
       "      <th>9</th>\n",
       "      <td>419.3</td>\n",
       "      <td>428.1</td>\n",
       "      <td>421.6</td>\n",
       "      <td>423.7</td>\n",
       "      <td>7.761693</td>\n",
       "    </tr>\n",
       "  </tbody>\n",
       "</table>\n",
       "</div>"
      ],
      "text/plain": [
       "       0      1      2      3    output\n",
       "0  422.3  420.4  419.7  418.8  1.060448\n",
       "1  421.3  417.2  424.1  420.1  3.135536\n",
       "2  426.0  419.5  418.7  421.2  4.123857\n",
       "3  424.8  421.5  420.9  415.7  5.380632\n",
       "4  416.8  424.4  421.7  416.2  6.602662\n",
       "5  416.8  415.9  418.6  418.7  6.774821\n",
       "6  416.8  415.9  418.6  418.7  6.774821\n",
       "7  418.3  417.0  425.9  423.7  6.892861\n",
       "8  424.0  417.9  415.9  424.3  6.979350\n",
       "9  419.3  428.1  421.6  423.7  7.761693"
      ]
     },
     "execution_count": 23,
     "metadata": {},
     "output_type": "execute_result"
    }
   ],
   "source": [
    "df"
   ]
  },
  {
   "cell_type": "code",
   "execution_count": null,
   "metadata": {
    "collapsed": true,
    "deletable": true,
    "editable": true
   },
   "outputs": [],
   "source": []
  }
 ],
 "metadata": {
  "kernelspec": {
   "display_name": "Python 3",
   "language": "python",
   "name": "python3"
  },
  "language_info": {
   "codemirror_mode": {
    "name": "ipython",
    "version": 3
   },
   "file_extension": ".py",
   "mimetype": "text/x-python",
   "name": "python",
   "nbconvert_exporter": "python",
   "pygments_lexer": "ipython3",
   "version": "3.6.0"
  }
 },
 "nbformat": 4,
 "nbformat_minor": 2
}
