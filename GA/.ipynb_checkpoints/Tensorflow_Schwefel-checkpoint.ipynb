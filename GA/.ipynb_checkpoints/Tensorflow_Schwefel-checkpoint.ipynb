{
 "cells": [
  {
   "cell_type": "markdown",
   "metadata": {
    "deletable": true,
    "editable": true
   },
   "source": [
    "# Nonlinear Optimization with Tensorflow "
   ]
  },
  {
   "cell_type": "markdown",
   "metadata": {
    "deletable": true,
    "editable": true
   },
   "source": [
    "## Why bother?"
   ]
  },
  {
   "cell_type": "markdown",
   "metadata": {
    "collapsed": true,
    "deletable": true,
    "editable": true
   },
   "source": [
    "# Improved Genetic Algorithm"
   ]
  },
  {
   "cell_type": "code",
   "execution_count": 1,
   "metadata": {
    "collapsed": false,
    "deletable": true,
    "editable": true
   },
   "outputs": [],
   "source": [
    "import os\n",
    "import numpy as np\n",
    "import matplotlib.pyplot as plt\n",
    "import tensorflow as tf\n",
    "from tensorflow.python.framework import ops\n",
    "ops.reset_default_graph()"
   ]
  },
  {
   "cell_type": "code",
   "execution_count": 2,
   "metadata": {
    "collapsed": true,
    "deletable": true,
    "editable": true
   },
   "outputs": [],
   "source": [
    "sess = tf.InteractiveSession()"
   ]
  },
  {
   "cell_type": "code",
   "execution_count": 3,
   "metadata": {
    "collapsed": true,
    "deletable": true,
    "editable": true
   },
   "outputs": [],
   "source": [
    "# Genetic Algorithm Parameters\n",
    "pop_size = 1000\n",
    "features = 10\n",
    "selection = 0.7\n",
    "mutation = 0.02 #1. / pop_size\n",
    "generations = 5000\n",
    "num_parents = int(pop_size * selection)\n",
    "num_children = pop_size - num_parents"
   ]
  },
  {
   "cell_type": "code",
   "execution_count": 4,
   "metadata": {
    "collapsed": false,
    "deletable": true,
    "editable": true
   },
   "outputs": [],
   "source": [
    "with tf.name_scope('population'):\n",
    "    population = tf.Variable(tf.random_uniform([pop_size, features], minval=-500., maxval=500), name='population')\n",
    "    "
   ]
  },
  {
   "cell_type": "code",
   "execution_count": 5,
   "metadata": {
    "collapsed": false,
    "deletable": true,
    "editable": true
   },
   "outputs": [],
   "source": [
    "# Initialize placeholders\n",
    "with tf.name_scope('mutations_ph'):\n",
    "    truth_ph = tf.placeholder(tf.float32, [None, features])\n",
    "    crossover_mat_ph = tf.placeholder(tf.float32, [num_children, features])\n",
    "    mutation_val_ph = tf.placeholder(tf.float32, [num_children, features])"
   ]
  },
  {
   "cell_type": "code",
   "execution_count": 6,
   "metadata": {
    "collapsed": false,
    "deletable": true,
    "editable": true
   },
   "outputs": [],
   "source": [
    "# Calculate Fitness\n",
    "with tf.name_scope('fitness'):\n",
    "    \n",
    "    with tf.name_scope('schwefel'):\n",
    "        fitness = 418.9829 * features - tf.reduce_sum(\n",
    "            tf.multiply(population, tf.sin(tf.sqrt(tf.abs(population)))), reduction_indices=[1])\n",
    "\n",
    "        tf.summary.histogram('histogram', fitness)\n",
    "\n",
    "        mean = tf.reduce_mean(fitness)\n",
    "        tf.summary.scalar('mean', mean)\n",
    "        \n",
    "        stddev = tf.sqrt(tf.reduce_mean(tf.square(fitness - mean)))\n",
    "        tf.summary.scalar('stddev', stddev)\n",
    "        \n",
    "    \n",
    "    with tf.name_scope('top_individuals'):\n",
    "        top_vals, top_ind = tf.nn.top_k(fitness, k=pop_size)\n",
    "    "
   ]
  },
  {
   "cell_type": "code",
   "execution_count": 7,
   "metadata": {
    "collapsed": true,
    "deletable": true,
    "editable": true
   },
   "outputs": [],
   "source": [
    "with tf.name_scope('best_individual'):\n",
    "    # Get best individual\n",
    "    best_val = tf.reduce_min(top_vals)\n",
    "    best_ind = tf.arg_min(top_vals, 0)\n",
    "    best_individual = tf.gather(population, best_ind)"
   ]
  },
  {
   "cell_type": "code",
   "execution_count": 8,
   "metadata": {
    "collapsed": false,
    "deletable": true,
    "editable": true
   },
   "outputs": [],
   "source": [
    "with tf.name_scope('parents'):\n",
    "    # Get parents\n",
    "    population_sorted = tf.gather(population, tf.reverse(top_ind, [0]))\n",
    "    parents = tf.slice(population_sorted, [0, 0], [num_parents, features]) "
   ]
  },
  {
   "cell_type": "code",
   "execution_count": 9,
   "metadata": {
    "collapsed": false,
    "deletable": true,
    "editable": true
   },
   "outputs": [],
   "source": [
    "with tf.name_scope('offspring'):\n",
    "    # Get offspring\n",
    "    # Indices to shuffle-gather parents\n",
    "    rand_parent1_ix = np.random.choice(num_parents, num_children)\n",
    "    rand_parent2_ix = np.random.choice(num_parents, num_children)\n",
    "\n",
    "    # Gather parents by shuffled indices, expand back to pop_size\n",
    "    with tf.name_scope('random_parent_selection'):\n",
    "        rand_parent1 = tf.gather(parents, rand_parent1_ix)\n",
    "        rand_parent2 = tf.gather(parents, rand_parent2_ix)\n",
    "    with tf.name_scope('mutations'):\n",
    "        rand_parent1_sel = tf.multiply(rand_parent1, crossover_mat_ph)\n",
    "        rand_parent2_sel = tf.multiply(rand_parent2, tf.subtract(1., crossover_mat_ph))\n",
    "        children_after_sel = tf.add(rand_parent1_sel, rand_parent2_sel)\n",
    "    \n",
    "    # Mutate offspring\n",
    "    mutated_children = tf.add(children_after_sel, mutation_val_ph)"
   ]
  },
  {
   "cell_type": "code",
   "execution_count": 10,
   "metadata": {
    "collapsed": true,
    "deletable": true,
    "editable": true
   },
   "outputs": [],
   "source": [
    "with tf.name_scope('next_generation'):\n",
    "    # Combine children and parents into new population\n",
    "    new_population = tf.concat(axis=0, values=[parents, mutated_children])\n",
    "    step = tf.group(population.assign(new_population))"
   ]
  },
  {
   "cell_type": "code",
   "execution_count": 11,
   "metadata": {
    "collapsed": false,
    "deletable": true,
    "editable": true
   },
   "outputs": [
    {
     "name": "stdout",
     "output_type": "stream",
     "text": [
      "Generation 0, Best Fitness 2248.034668\n",
      "Generation 1000, Best Fitness 37.905273\n",
      "Generation 2000, Best Fitness 21.237305\n",
      "Generation 3000, Best Fitness 9.735840\n",
      "Generation 4000, Best Fitness 2.713379\n",
      "Generation 5000, Best Fitness 0.034180\n"
     ]
    }
   ],
   "source": [
    "# Run through generations\n",
    "#with tf.Session() as sess:\n",
    "tf.set_random_seed(42)\n",
    "np.random.seed(42)\n",
    "\n",
    "\n",
    "# Write to Tensorboard\n",
    "merged = tf.summary.merge_all()\n",
    "writer = tf.summary.FileWriter('/tmp/schwefel', sess.graph)\n",
    "\n",
    "sess.run(tf.global_variables_initializer())\n",
    "\n",
    "if not os.path.exists('/tmp/schwefel'):\n",
    "    os.makedirs('/tmp/schwefel')\n",
    "\n",
    "\n",
    "top_solutions = np.empty([generations, features])\n",
    "for i in range(0, generations + 1):\n",
    "    # Create cross-over matrices \n",
    "    crossover_mat = np.ones(shape=[num_children, features])\n",
    "    crossover_point = np.random.choice(np.arange(1, features-1, step=1), num_children)\n",
    "    for pop_ix in range(num_children):\n",
    "        crossover_mat[pop_ix, 0:crossover_point[pop_ix]] = 0.\n",
    "\n",
    "    # Generate mutation probability matrices\n",
    "    mutation_prob_mat = np.random.uniform(size=[num_children, features])\n",
    "    mutation_values = np.random.normal(0, 0.03, size=[num_children, features])\n",
    "    mutation_values[mutation_prob_mat >= mutation] = 0\n",
    "\n",
    "    # Run GA step\n",
    "    feed_dict = {crossover_mat_ph: crossover_mat,\n",
    "                 mutation_val_ph: mutation_values}\n",
    "\n",
    "    summary, _ = sess.run([merged, step], feed_dict=feed_dict)\n",
    "    #summary = step.run(feed_dict, session=sess)\n",
    "    \n",
    "    if i % 10 == 0:\n",
    "        writer.add_summary(summary, i)\n",
    "        \n",
    "    # Store epoch's best solution\n",
    "    top_solution = sess.run(best_individual, feed_dict=feed_dict)\n",
    "\n",
    "    #\n",
    "    top_solutions = np.append(top_solutions, [top_solution], axis=0)\n",
    "\n",
    "\n",
    "    #print(population.eval(session=sess))\n",
    "    if i % 1000 == 0:\n",
    "        best_fit = sess.run(best_val, feed_dict=feed_dict)\n",
    "        print('Generation {}, Best Fitness {:.6f}'.format(i, best_fit))\n",
    "\n",
    "# cleanup\n",
    "writer.close()\n",
    "\n"
   ]
  },
  {
   "cell_type": "code",
   "execution_count": 12,
   "metadata": {
    "collapsed": false,
    "deletable": true,
    "editable": true
   },
   "outputs": [
    {
     "data": {
      "text/html": [
       "<div>\n",
       "<table border=\"1\" class=\"dataframe\">\n",
       "  <thead>\n",
       "    <tr style=\"text-align: right;\">\n",
       "      <th></th>\n",
       "      <th>0</th>\n",
       "      <th>1</th>\n",
       "      <th>2</th>\n",
       "      <th>3</th>\n",
       "      <th>4</th>\n",
       "      <th>5</th>\n",
       "      <th>6</th>\n",
       "      <th>7</th>\n",
       "      <th>8</th>\n",
       "      <th>9</th>\n",
       "      <th>yhat</th>\n",
       "    </tr>\n",
       "  </thead>\n",
       "  <tbody>\n",
       "    <tr>\n",
       "      <th>9991</th>\n",
       "      <td>420.9676</td>\n",
       "      <td>420.9597</td>\n",
       "      <td>420.9743</td>\n",
       "      <td>420.9858</td>\n",
       "      <td>420.9655</td>\n",
       "      <td>420.9719</td>\n",
       "      <td>420.9502</td>\n",
       "      <td>420.9227</td>\n",
       "      <td>421.3209</td>\n",
       "      <td>420.4957</td>\n",
       "      <td>0.044373</td>\n",
       "    </tr>\n",
       "    <tr>\n",
       "      <th>9992</th>\n",
       "      <td>420.9706</td>\n",
       "      <td>420.9672</td>\n",
       "      <td>420.9915</td>\n",
       "      <td>420.9615</td>\n",
       "      <td>420.9655</td>\n",
       "      <td>420.9594</td>\n",
       "      <td>420.9908</td>\n",
       "      <td>420.9542</td>\n",
       "      <td>421.3253</td>\n",
       "      <td>420.4998</td>\n",
       "      <td>0.044088</td>\n",
       "    </tr>\n",
       "    <tr>\n",
       "      <th>9993</th>\n",
       "      <td>420.9738</td>\n",
       "      <td>420.9907</td>\n",
       "      <td>420.9588</td>\n",
       "      <td>420.9761</td>\n",
       "      <td>420.9655</td>\n",
       "      <td>420.9594</td>\n",
       "      <td>420.9875</td>\n",
       "      <td>420.9227</td>\n",
       "      <td>421.3068</td>\n",
       "      <td>420.4848</td>\n",
       "      <td>0.044504</td>\n",
       "    </tr>\n",
       "    <tr>\n",
       "      <th>9994</th>\n",
       "      <td>421.0005</td>\n",
       "      <td>420.9889</td>\n",
       "      <td>420.9516</td>\n",
       "      <td>420.9492</td>\n",
       "      <td>420.9558</td>\n",
       "      <td>420.9316</td>\n",
       "      <td>420.9908</td>\n",
       "      <td>420.9234</td>\n",
       "      <td>421.2966</td>\n",
       "      <td>420.4800</td>\n",
       "      <td>0.044608</td>\n",
       "    </tr>\n",
       "    <tr>\n",
       "      <th>9995</th>\n",
       "      <td>420.9561</td>\n",
       "      <td>420.9672</td>\n",
       "      <td>420.9516</td>\n",
       "      <td>420.9714</td>\n",
       "      <td>420.9655</td>\n",
       "      <td>420.9418</td>\n",
       "      <td>420.9875</td>\n",
       "      <td>420.9234</td>\n",
       "      <td>421.2577</td>\n",
       "      <td>420.4752</td>\n",
       "      <td>0.041850</td>\n",
       "    </tr>\n",
       "    <tr>\n",
       "      <th>9996</th>\n",
       "      <td>420.9706</td>\n",
       "      <td>420.9889</td>\n",
       "      <td>420.9915</td>\n",
       "      <td>420.9858</td>\n",
       "      <td>420.9649</td>\n",
       "      <td>420.9644</td>\n",
       "      <td>420.9502</td>\n",
       "      <td>420.9535</td>\n",
       "      <td>421.3162</td>\n",
       "      <td>420.5096</td>\n",
       "      <td>0.042190</td>\n",
       "    </tr>\n",
       "    <tr>\n",
       "      <th>9997</th>\n",
       "      <td>420.9706</td>\n",
       "      <td>420.9672</td>\n",
       "      <td>420.9630</td>\n",
       "      <td>420.9521</td>\n",
       "      <td>420.9655</td>\n",
       "      <td>420.9954</td>\n",
       "      <td>420.9502</td>\n",
       "      <td>420.9227</td>\n",
       "      <td>421.2121</td>\n",
       "      <td>420.4503</td>\n",
       "      <td>0.041952</td>\n",
       "    </tr>\n",
       "    <tr>\n",
       "      <th>9998</th>\n",
       "      <td>420.9706</td>\n",
       "      <td>420.9672</td>\n",
       "      <td>420.9915</td>\n",
       "      <td>420.9867</td>\n",
       "      <td>420.9691</td>\n",
       "      <td>420.9438</td>\n",
       "      <td>420.9765</td>\n",
       "      <td>420.9742</td>\n",
       "      <td>421.2206</td>\n",
       "      <td>420.4752</td>\n",
       "      <td>0.039059</td>\n",
       "    </tr>\n",
       "    <tr>\n",
       "      <th>9999</th>\n",
       "      <td>420.9706</td>\n",
       "      <td>420.9672</td>\n",
       "      <td>420.9480</td>\n",
       "      <td>420.9677</td>\n",
       "      <td>420.9649</td>\n",
       "      <td>420.9576</td>\n",
       "      <td>420.9908</td>\n",
       "      <td>420.9535</td>\n",
       "      <td>421.2577</td>\n",
       "      <td>420.4752</td>\n",
       "      <td>0.041558</td>\n",
       "    </tr>\n",
       "    <tr>\n",
       "      <th>10000</th>\n",
       "      <td>420.9819</td>\n",
       "      <td>420.9672</td>\n",
       "      <td>420.9630</td>\n",
       "      <td>420.9615</td>\n",
       "      <td>420.9655</td>\n",
       "      <td>420.9594</td>\n",
       "      <td>420.9310</td>\n",
       "      <td>420.9742</td>\n",
       "      <td>421.2577</td>\n",
       "      <td>420.4752</td>\n",
       "      <td>0.041623</td>\n",
       "    </tr>\n",
       "  </tbody>\n",
       "</table>\n",
       "</div>"
      ],
      "text/plain": [
       "              0         1         2         3         4         5         6  \\\n",
       "9991   420.9676  420.9597  420.9743  420.9858  420.9655  420.9719  420.9502   \n",
       "9992   420.9706  420.9672  420.9915  420.9615  420.9655  420.9594  420.9908   \n",
       "9993   420.9738  420.9907  420.9588  420.9761  420.9655  420.9594  420.9875   \n",
       "9994   421.0005  420.9889  420.9516  420.9492  420.9558  420.9316  420.9908   \n",
       "9995   420.9561  420.9672  420.9516  420.9714  420.9655  420.9418  420.9875   \n",
       "9996   420.9706  420.9889  420.9915  420.9858  420.9649  420.9644  420.9502   \n",
       "9997   420.9706  420.9672  420.9630  420.9521  420.9655  420.9954  420.9502   \n",
       "9998   420.9706  420.9672  420.9915  420.9867  420.9691  420.9438  420.9765   \n",
       "9999   420.9706  420.9672  420.9480  420.9677  420.9649  420.9576  420.9908   \n",
       "10000  420.9819  420.9672  420.9630  420.9615  420.9655  420.9594  420.9310   \n",
       "\n",
       "              7         8         9      yhat  \n",
       "9991   420.9227  421.3209  420.4957  0.044373  \n",
       "9992   420.9542  421.3253  420.4998  0.044088  \n",
       "9993   420.9227  421.3068  420.4848  0.044504  \n",
       "9994   420.9234  421.2966  420.4800  0.044608  \n",
       "9995   420.9234  421.2577  420.4752  0.041850  \n",
       "9996   420.9535  421.3162  420.5096  0.042190  \n",
       "9997   420.9227  421.2121  420.4503  0.041952  \n",
       "9998   420.9742  421.2206  420.4752  0.039059  \n",
       "9999   420.9535  421.2577  420.4752  0.041558  \n",
       "10000  420.9742  421.2577  420.4752  0.041623  "
      ]
     },
     "execution_count": 12,
     "metadata": {},
     "output_type": "execute_result"
    }
   ],
   "source": [
    "import pandas as pd\n",
    "\n",
    "def schwefel(x: np.ndarray)-> np.float32 :\n",
    "    return 418.9829 * len(x) - x.dot(np.sin(np.sqrt(np.abs(x))))\n",
    "\n",
    "df = pd.DataFrame(np.round(top_solutions, decimals=4)).drop_duplicates()\n",
    "df['yhat'] = df.apply(schwefel, axis=1)\n",
    "df.sort_values(by='yhat')\n",
    "df[-10:]"
   ]
  },
  {
   "cell_type": "code",
   "execution_count": null,
   "metadata": {
    "collapsed": true,
    "deletable": true,
    "editable": true
   },
   "outputs": [],
   "source": []
  }
 ],
 "metadata": {
  "kernelspec": {
   "display_name": "Python 3",
   "language": "python",
   "name": "python3"
  },
  "language_info": {
   "codemirror_mode": {
    "name": "ipython",
    "version": 3
   },
   "file_extension": ".py",
   "mimetype": "text/x-python",
   "name": "python",
   "nbconvert_exporter": "python",
   "pygments_lexer": "ipython3",
   "version": "3.6.0"
  }
 },
 "nbformat": 4,
 "nbformat_minor": 2
}
