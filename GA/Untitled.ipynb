{
 "cells": [
  {
   "cell_type": "code",
   "execution_count": 1,
   "metadata": {
    "collapsed": true,
    "deletable": true,
    "editable": true
   },
   "outputs": [],
   "source": [
    "import tensorflow as tf\n",
    "import numpy as np"
   ]
  },
  {
   "cell_type": "code",
   "execution_count": 2,
   "metadata": {
    "collapsed": true,
    "deletable": true,
    "editable": true
   },
   "outputs": [],
   "source": [
    "# Meta\n",
    "FEATURES = 4\n",
    "LOWER, UPPER = -500, 500\n",
    "POP_SIZE = 5\n",
    "K_BEST = int(.7 * POP_SIZE)"
   ]
  },
  {
   "cell_type": "code",
   "execution_count": 3,
   "metadata": {
    "collapsed": false,
    "deletable": true,
    "editable": true
   },
   "outputs": [],
   "source": [
    "# initialize random population\n",
    "population = np.random.uniform(low=LOWER, high=UPPER, size=[POP_SIZE - 1, FEATURES])\n",
    "population = np.vstack((population, np.array([420, 420, 420, 420], dtype=np.float32)))\n",
    "\n",
    "population_ph = tf.placeholder(tf.float32, [None, FEATURES])"
   ]
  },
  {
   "cell_type": "code",
   "execution_count": 16,
   "metadata": {
    "collapsed": false,
    "deletable": true,
    "editable": true
   },
   "outputs": [],
   "source": [
    "# fitness function; schwefel\n",
    "fitness = 418.9829 * FEATURES - tf.reduce_sum(\n",
    "    tf.multiply(population_ph,\n",
    "             tf.sin(tf.sqrt(tf.abs(population_ph)))),\n",
    "    reduction_indices=[1])\n",
    "\n",
    "# descending order\n",
    "top_vals, top_inds = tf.nn.top_k(fitness, k=POP_SIZE)\n",
    "\n",
    "# Interested in minimum values; reverse returned population\n",
    "population_sorted = tf.gather(population_ph, tf.reverse(top_inds, [0]))\n",
    "\n"
   ]
  },
  {
   "cell_type": "code",
   "execution_count": 17,
   "metadata": {
    "collapsed": false
   },
   "outputs": [
    {
     "name": "stdout",
     "output_type": "stream",
     "text": [
      "[[ 420.          420.          420.          420.        ]\n",
      " [ 383.65182495 -171.90982056 -305.16052246  -52.55737686]\n",
      " [-402.6557312  -307.60183716  -24.39159393 -297.6149292 ]\n",
      " [-359.67532349  168.93582153 -105.19004822  -28.88232994]\n",
      " [ 167.29554749  -68.20900726 -456.77352905  -72.24406433]]\n"
     ]
    }
   ],
   "source": [
    "with tf.Session() as sess:\n",
    "    \n",
    "    feed_dict={population_ph: population}\n",
    "    ps = sess.run(population_sorted, feed_dict=feed_dict)\n",
    "    print(ps)\n",
    "    "
   ]
  },
  {
   "cell_type": "code",
   "execution_count": null,
   "metadata": {
    "collapsed": true
   },
   "outputs": [],
   "source": []
  }
 ],
 "metadata": {
  "kernelspec": {
   "display_name": "Python 3",
   "language": "python",
   "name": "python3"
  },
  "language_info": {
   "codemirror_mode": {
    "name": "ipython",
    "version": 3
   },
   "file_extension": ".py",
   "mimetype": "text/x-python",
   "name": "python",
   "nbconvert_exporter": "python",
   "pygments_lexer": "ipython3",
   "version": "3.6.0"
  }
 },
 "nbformat": 4,
 "nbformat_minor": 2
}
